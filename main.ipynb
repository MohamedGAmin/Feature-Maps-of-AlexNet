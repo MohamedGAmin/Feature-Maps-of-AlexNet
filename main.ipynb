{
  "cells": [
    {
      "cell_type": "markdown",
      "id": "12e621ba",
      "metadata": {
        "papermill": {
          "duration": 0.025174,
          "end_time": "2021-12-09T10:08:08.643733",
          "exception": false,
          "start_time": "2021-12-09T10:08:08.618559",
          "status": "completed"
        },
        "tags": [],
        "id": "12e621ba"
      },
      "source": [
        "## Visualizing the filters and feature maps of a fully-trained CNN (AlexNet) on the full ImageNet 2012 dataset."
      ]
    },
    {
      "cell_type": "markdown",
      "id": "e6067f67",
      "metadata": {
        "papermill": {
          "duration": 0.023606,
          "end_time": "2021-12-09T10:08:08.692885",
          "exception": false,
          "start_time": "2021-12-09T10:08:08.669279",
          "status": "completed"
        },
        "tags": [],
        "id": "e6067f67"
      },
      "source": [
        "### Imports"
      ]
    },
    {
      "cell_type": "code",
      "execution_count": null,
      "id": "94c4b122",
      "metadata": {
        "execution": {
          "iopub.execute_input": "2021-12-09T10:08:08.746601Z",
          "iopub.status.busy": "2021-12-09T10:08:08.745267Z",
          "iopub.status.idle": "2021-12-09T10:08:11.496582Z",
          "shell.execute_reply": "2021-12-09T10:08:11.495862Z",
          "shell.execute_reply.started": "2021-12-09T10:07:01.878900Z"
        },
        "papermill": {
          "duration": 2.780081,
          "end_time": "2021-12-09T10:08:11.496758",
          "exception": false,
          "start_time": "2021-12-09T10:08:08.716677",
          "status": "completed"
        },
        "tags": [],
        "id": "94c4b122"
      },
      "outputs": [],
      "source": [
        "import cv2\n",
        "import math\n",
        "\n",
        "import numpy as np\n",
        "import torch\n",
        "import torch.nn as nn\n",
        "import torchvision.transforms as transforms\n",
        "from torch.hub import load_state_dict_from_url\n",
        "\n",
        "from PIL import Image\n",
        "import matplotlib.pyplot as plt\n",
        "\n",
        "import pandas as pd\n",
        "\n",
        "from torch.utils.data import Dataset\n",
        "from torchvision import datasets, transforms\n",
        "import os\n",
        "\n",
        "from torch.utils.data import Dataset, DataLoader\n",
        "import torch.optim as optim\n",
        "from tqdm import tqdm\n",
        "\n",
        "import seaborn as sns"
      ]
    },
    {
      "cell_type": "markdown",
      "id": "1abe8597",
      "metadata": {
        "papermill": {
          "duration": 0.023738,
          "end_time": "2021-12-09T10:08:11.544385",
          "exception": false,
          "start_time": "2021-12-09T10:08:11.520647",
          "status": "completed"
        },
        "tags": [],
        "id": "1abe8597"
      },
      "source": [
        "### Loading a pre-trained model"
      ]
    },
    {
      "cell_type": "code",
      "execution_count": null,
      "id": "12844b10",
      "metadata": {
        "execution": {
          "iopub.execute_input": "2021-12-09T10:08:11.597990Z",
          "iopub.status.busy": "2021-12-09T10:08:11.597264Z",
          "iopub.status.idle": "2021-12-09T10:08:33.988502Z",
          "shell.execute_reply": "2021-12-09T10:08:33.989011Z",
          "shell.execute_reply.started": "2021-12-09T10:07:01.894766Z"
        },
        "papermill": {
          "duration": 22.420695,
          "end_time": "2021-12-09T10:08:33.989180",
          "exception": false,
          "start_time": "2021-12-09T10:08:11.568485",
          "status": "completed"
        },
        "tags": [],
        "id": "12844b10",
        "outputId": "3a1ceb89-e291-4b4b-b153-2c512888014a",
        "colab": {
          "referenced_widgets": [
            "091b1711f30946a6a1b3292d655cc665"
          ]
        }
      },
      "outputs": [
        {
          "name": "stderr",
          "output_type": "stream",
          "text": [
            "Downloading: \"https://github.com/pytorch/vision/archive/v0.6.0.zip\" to /root/.cache/torch/hub/v0.6.0.zip\n",
            "Downloading: \"https://download.pytorch.org/models/alexnet-owt-7be5be79.pth\" to /root/.cache/torch/hub/checkpoints/alexnet-owt-7be5be79.pth\n"
          ]
        },
        {
          "data": {
            "application/vnd.jupyter.widget-view+json": {
              "model_id": "091b1711f30946a6a1b3292d655cc665",
              "version_major": 2,
              "version_minor": 0
            },
            "text/plain": [
              "  0%|          | 0.00/233M [00:00<?, ?B/s]"
            ]
          },
          "metadata": {},
          "output_type": "display_data"
        },
        {
          "data": {
            "text/plain": [
              "AlexNet(\n",
              "  (features): Sequential(\n",
              "    (0): Conv2d(3, 64, kernel_size=(11, 11), stride=(4, 4), padding=(2, 2))\n",
              "    (1): ReLU(inplace=True)\n",
              "    (2): MaxPool2d(kernel_size=3, stride=2, padding=0, dilation=1, ceil_mode=False)\n",
              "    (3): Conv2d(64, 192, kernel_size=(5, 5), stride=(1, 1), padding=(2, 2))\n",
              "    (4): ReLU(inplace=True)\n",
              "    (5): MaxPool2d(kernel_size=3, stride=2, padding=0, dilation=1, ceil_mode=False)\n",
              "    (6): Conv2d(192, 384, kernel_size=(3, 3), stride=(1, 1), padding=(1, 1))\n",
              "    (7): ReLU(inplace=True)\n",
              "    (8): Conv2d(384, 256, kernel_size=(3, 3), stride=(1, 1), padding=(1, 1))\n",
              "    (9): ReLU(inplace=True)\n",
              "    (10): Conv2d(256, 256, kernel_size=(3, 3), stride=(1, 1), padding=(1, 1))\n",
              "    (11): ReLU(inplace=True)\n",
              "    (12): MaxPool2d(kernel_size=3, stride=2, padding=0, dilation=1, ceil_mode=False)\n",
              "  )\n",
              "  (avgpool): AdaptiveAvgPool2d(output_size=(6, 6))\n",
              "  (classifier): Sequential(\n",
              "    (0): Dropout(p=0.5, inplace=False)\n",
              "    (1): Linear(in_features=9216, out_features=4096, bias=True)\n",
              "    (2): ReLU(inplace=True)\n",
              "    (3): Dropout(p=0.5, inplace=False)\n",
              "    (4): Linear(in_features=4096, out_features=4096, bias=True)\n",
              "    (5): ReLU(inplace=True)\n",
              "    (6): Linear(in_features=4096, out_features=1000, bias=True)\n",
              "  )\n",
              ")"
            ]
          },
          "execution_count": 2,
          "metadata": {},
          "output_type": "execute_result"
        }
      ],
      "source": [
        "model = torch.hub.load('pytorch/vision:v0.6.0', 'alexnet', pretrained=True)\n",
        "model.eval()"
      ]
    },
    {
      "cell_type": "markdown",
      "id": "e08205df",
      "metadata": {
        "papermill": {
          "duration": 0.025307,
          "end_time": "2021-12-09T10:08:34.040137",
          "exception": false,
          "start_time": "2021-12-09T10:08:34.014830",
          "status": "completed"
        },
        "tags": [],
        "id": "e08205df"
      },
      "source": [
        "## Extract and visualize the filters "
      ]
    },
    {
      "cell_type": "code",
      "execution_count": null,
      "id": "1851c52b",
      "metadata": {
        "execution": {
          "iopub.execute_input": "2021-12-09T10:08:34.095120Z",
          "iopub.status.busy": "2021-12-09T10:08:34.094143Z",
          "iopub.status.idle": "2021-12-09T10:08:34.098910Z",
          "shell.execute_reply": "2021-12-09T10:08:34.099529Z",
          "shell.execute_reply.started": "2021-12-09T10:07:03.107882Z"
        },
        "papermill": {
          "duration": 0.033995,
          "end_time": "2021-12-09T10:08:34.099698",
          "exception": false,
          "start_time": "2021-12-09T10:08:34.065703",
          "status": "completed"
        },
        "tags": [],
        "id": "1851c52b"
      },
      "outputs": [],
      "source": [
        "def fetch_filters(layer_idx, model):\n",
        "    \"\"\" \n",
        "        Args:\n",
        "            layer_idx (int): the index of model.features specifying which conv layer\n",
        "            model (AlexNet): PyTorch AlexNet object\n",
        "        Return:\n",
        "            filters (Tensor):      \n",
        "    \"\"\"\n",
        "    # TO COMPLETE\n",
        "    # return filters\n",
        "    x=torch.tensor(model.features[layer_idx].weight,requires_grad=False)\n",
        "\n",
        "    return x"
      ]
    },
    {
      "cell_type": "code",
      "execution_count": null,
      "id": "42745c5a",
      "metadata": {
        "execution": {
          "iopub.execute_input": "2021-12-09T10:08:34.155909Z",
          "iopub.status.busy": "2021-12-09T10:08:34.154794Z",
          "iopub.status.idle": "2021-12-09T10:08:34.166257Z",
          "shell.execute_reply": "2021-12-09T10:08:34.167040Z",
          "shell.execute_reply.started": "2021-12-09T10:07:03.114879Z"
        },
        "papermill": {
          "duration": 0.042025,
          "end_time": "2021-12-09T10:08:34.167273",
          "exception": false,
          "start_time": "2021-12-09T10:08:34.125248",
          "status": "completed"
        },
        "tags": [],
        "id": "42745c5a",
        "outputId": "8d4868c5-8775-426c-cc10-b483c1016b8f"
      },
      "outputs": [
        {
          "name": "stderr",
          "output_type": "stream",
          "text": [
            "/opt/conda/lib/python3.7/site-packages/ipykernel_launcher.py:11: UserWarning: To copy construct from a tensor, it is recommended to use sourceTensor.clone().detach() or sourceTensor.clone().detach().requires_grad_(True), rather than torch.tensor(sourceTensor).\n",
            "  # This is added back by InteractiveShellApp.init_path()\n"
          ]
        }
      ],
      "source": [
        "# all the indices of the conv layers\n",
        "conv_layer_idx = [0, 3, 6, 8, 10]\n",
        "\n",
        "filters = []\n",
        "\n",
        "for layer_idx in conv_layer_idx:\n",
        "    filters.append(fetch_filters(layer_idx, model))"
      ]
    },
    {
      "cell_type": "code",
      "execution_count": null,
      "id": "f6cdd9a2",
      "metadata": {
        "execution": {
          "iopub.execute_input": "2021-12-09T10:08:34.225180Z",
          "iopub.status.busy": "2021-12-09T10:08:34.224171Z",
          "iopub.status.idle": "2021-12-09T10:08:34.918189Z",
          "shell.execute_reply": "2021-12-09T10:08:34.918724Z",
          "shell.execute_reply.started": "2021-12-09T10:07:03.139411Z"
        },
        "papermill": {
          "duration": 0.724307,
          "end_time": "2021-12-09T10:08:34.918923",
          "exception": false,
          "start_time": "2021-12-09T10:08:34.194616",
          "status": "completed"
        },
        "tags": [],
        "id": "f6cdd9a2",
        "outputId": "094542c5-3bce-4a93-cb5e-f71caedad1a4"
      },
      "outputs": [
        {
          "data": {
            "image/png": "[encoded data removed]",
            "text/plain": [
              "<Figure size 432x288 with 16 Axes>"
            ]
          },
          "metadata": {
            "needs_background": "light"
          },
          "output_type": "display_data"
        }
      ],
      "source": [
        "# limit how many filters to show\n",
        "to_show = 16\n",
        "\n",
        "# compute the dimensions of the plot\n",
        "plt_dim = int(math.sqrt(to_show))\n",
        "\n",
        "# plot the first channel of each filter in a grid\n",
        "for i, filt in enumerate(filters[0].numpy()[:to_show]):\n",
        "    plt.subplot(plt_dim, plt_dim, i+1)\n",
        "    plt.imshow(filt[0], cmap=\"gray\")\n",
        "    plt.axis('off')\n",
        "plt.show()"
      ]
    },
    {
      "cell_type": "markdown",
      "id": "e480f83b",
      "metadata": {
        "papermill": {
          "duration": 0.026314,
          "end_time": "2021-12-09T10:08:34.971975",
          "exception": false,
          "start_time": "2021-12-09T10:08:34.945661",
          "status": "completed"
        },
        "tags": [],
        "id": "e480f83b"
      },
      "source": [
        "### "
      ]
    },
    {
      "cell_type": "markdown",
      "id": "a5fc8245",
      "metadata": {
        "papermill": {
          "duration": 0.025987,
          "end_time": "2021-12-09T10:08:35.026068",
          "exception": false,
          "start_time": "2021-12-09T10:08:35.000081",
          "status": "completed"
        },
        "tags": [],
        "id": "a5fc8245"
      },
      "source": [
        "## Extract and visualize feature maps \n",
        "\n",
        "In this section, we will pass a test image through the AlexNet and extract and visualize the resulting convolutional layer feature maps."
      ]
    },
    {
      "cell_type": "code",
      "execution_count": null,
      "id": "2412e8ae",
      "metadata": {
        "execution": {
          "iopub.execute_input": "2021-12-09T10:08:35.100463Z",
          "iopub.status.busy": "2021-12-09T10:08:35.098942Z",
          "iopub.status.idle": "2021-12-09T10:08:35.123122Z",
          "shell.execute_reply": "2021-12-09T10:08:35.123901Z",
          "shell.execute_reply.started": "2021-12-09T10:07:03.861163Z"
        },
        "papermill": {
          "duration": 0.06615,
          "end_time": "2021-12-09T10:08:35.124134",
          "exception": false,
          "start_time": "2021-12-09T10:08:35.057984",
          "status": "completed"
        },
        "tags": [],
        "id": "2412e8ae"
      },
      "outputs": [],
      "source": [
        "\n",
        "im=Image.open('man_bike.JPEG').convert(\"RGB\")"
      ]
    },
    {
      "cell_type": "code",
      "execution_count": null,
      "id": "f0db3bea",
      "metadata": {
        "execution": {
          "iopub.execute_input": "2021-12-09T10:08:35.186790Z",
          "iopub.status.busy": "2021-12-09T10:08:35.185916Z",
          "iopub.status.idle": "2021-12-09T10:08:35.239972Z",
          "shell.execute_reply": "2021-12-09T10:08:35.240720Z",
          "shell.execute_reply.started": "2021-12-09T10:07:03.881075Z"
        },
        "papermill": {
          "duration": 0.089369,
          "end_time": "2021-12-09T10:08:35.240922",
          "exception": false,
          "start_time": "2021-12-09T10:08:35.151553",
          "status": "completed"
        },
        "tags": [],
        "id": "f0db3bea"
      },
      "outputs": [],
      "source": [
        "# ImageNet normalisation values, to apply to the image transform\n",
        "norm_mean = [0.485, 0.456, 0.406]\n",
        "norm_std = [0.229, 0.224, 0.225]\n",
        "\n",
        "data_transform = transforms.Compose([\n",
        "        transforms.Resize(256),\n",
        "        transforms.CenterCrop(256),\n",
        "        transforms.ToTensor(),\n",
        "        transforms.Normalize(norm_mean, norm_std),\n",
        "    ])\n",
        "\n",
        "im = data_transform(im)"
      ]
    },
    {
      "cell_type": "code",
      "execution_count": null,
      "id": "2d7965b3",
      "metadata": {
        "execution": {
          "iopub.execute_input": "2021-12-09T10:08:35.298913Z",
          "iopub.status.busy": "2021-12-09T10:08:35.298243Z",
          "iopub.status.idle": "2021-12-09T10:08:35.307156Z",
          "shell.execute_reply": "2021-12-09T10:08:35.307734Z",
          "shell.execute_reply.started": "2021-12-09T10:07:03.904109Z"
        },
        "papermill": {
          "duration": 0.039394,
          "end_time": "2021-12-09T10:08:35.307908",
          "exception": false,
          "start_time": "2021-12-09T10:08:35.268514",
          "status": "completed"
        },
        "tags": [],
        "id": "2d7965b3"
      },
      "outputs": [],
      "source": [
        "def fetch_feature_maps(image, model):\n",
        "    \"\"\"\n",
        "    Args:\n",
        "        image (Tensor): a single input image with transform applied\n",
        "        model (AlexNet): PyTorch AlexNet object\n",
        "        \n",
        "    Return:\n",
        "        feature_maps (Tensor): all the feature maps from conv layers \n",
        "                    at indices 0, 3, and 10 (outputs of the MaxPool layers)\n",
        "    \"\"\"\n",
        "\n",
        "    model_weights=[]\n",
        "    conv_layers=[]\n",
        "    all_layers=[]\n",
        "    counter = 0 \n",
        "    maxpool=[]\n",
        "    model_children = list(model.children())\n",
        "    # append all the conv layers and their respective weights to the list\n",
        "\n",
        "    for j in range(len(model_children[0])):\n",
        "        child= model_children[0][j]\n",
        "        all_layers.append(child)\n",
        "        if type(child) == nn.MaxPool2d:\n",
        "            \n",
        "            counter += 1\n",
        "            #model_weights.append(child.weight)\n",
        "            conv_layers.append(child)\n",
        "\n",
        "\n",
        "    \n",
        "    results = [all_layers[0](image)]\n",
        "  \n",
        "    for i in range(1, len(all_layers)):\n",
        "        # pass the result from the last layer to the next layer\n",
        "        x=all_layers[i](results[-1])\n",
        "        results.append(x)\n",
        "        if len(results[i][0][0]) == len(results[i-1][0][0])// 2:\n",
        "          maxpool.append(x)\n",
        "       \n",
        "    # make a copy of the `results`\n",
        "    maxpool=[torch.tensor(x,requires_grad=False) for x in maxpool ]\n",
        "    \n",
        "    return maxpool"
      ]
    },
    {
      "cell_type": "code",
      "execution_count": null,
      "id": "631c01fa",
      "metadata": {
        "execution": {
          "iopub.execute_input": "2021-12-09T10:08:35.363898Z",
          "iopub.status.busy": "2021-12-09T10:08:35.363287Z",
          "iopub.status.idle": "2021-12-09T10:08:35.500376Z",
          "shell.execute_reply": "2021-12-09T10:08:35.500927Z",
          "shell.execute_reply.started": "2021-12-09T10:07:03.920815Z"
        },
        "papermill": {
          "duration": 0.166643,
          "end_time": "2021-12-09T10:08:35.501120",
          "exception": false,
          "start_time": "2021-12-09T10:08:35.334477",
          "status": "completed"
        },
        "tags": [],
        "id": "631c01fa",
        "outputId": "05e5ead0-c89d-4176-be20-68ba9098e81a"
      },
      "outputs": [
        {
          "name": "stderr",
          "output_type": "stream",
          "text": [
            "/opt/conda/lib/python3.7/site-packages/ipykernel_launcher.py:41: UserWarning: To copy construct from a tensor, it is recommended to use sourceTensor.clone().detach() or sourceTensor.clone().detach().requires_grad_(True), rather than torch.tensor(sourceTensor).\n"
          ]
        }
      ],
      "source": [
        "feature_maps = fetch_feature_maps(im.unsqueeze(0), model)"
      ]
    },
    {
      "cell_type": "markdown",
      "id": "5b83b354",
      "metadata": {
        "papermill": {
          "duration": 0.026424,
          "end_time": "2021-12-09T10:08:35.556716",
          "exception": false,
          "start_time": "2021-12-09T10:08:35.530292",
          "status": "completed"
        },
        "tags": [],
        "id": "5b83b354"
      },
      "source": [
        "Displaying the outputs of the first **16 feature maps from each of the 3 max-pool layers**."
      ]
    },
    {
      "cell_type": "code",
      "execution_count": null,
      "id": "5bdc7341",
      "metadata": {
        "execution": {
          "iopub.execute_input": "2021-12-09T10:08:35.614051Z",
          "iopub.status.busy": "2021-12-09T10:08:35.613099Z",
          "iopub.status.idle": "2021-12-09T10:08:36.180879Z",
          "shell.execute_reply": "2021-12-09T10:08:36.181443Z",
          "shell.execute_reply.started": "2021-12-09T10:07:03.991622Z"
        },
        "papermill": {
          "duration": 0.598048,
          "end_time": "2021-12-09T10:08:36.181622",
          "exception": false,
          "start_time": "2021-12-09T10:08:35.583574",
          "status": "completed"
        },
        "tags": [],
        "id": "5bdc7341",
        "outputId": "a969eb67-af12-44ae-b887-9df60dcaf403"
      },
      "outputs": [
        {
          "data": {
            "image/png": "[encoded data removed]",
            "text/plain": [
              "<Figure size 432x288 with 16 Axes>"
            ]
          },
          "metadata": {
            "needs_background": "light"
          },
          "output_type": "display_data"
        }
      ],
      "source": [
        "# limit how many filters to show\n",
        "to_show = 16\n",
        "\n",
        "# compute the dimensions of the plot\n",
        "plt_dim = int(math.sqrt(to_show))\n",
        "\n",
        "# plot the first channel of each filter in a grid\n",
        "for i, filt in enumerate(feature_maps[0][0].numpy()[:to_show]):\n",
        "    plt.subplot(plt_dim, plt_dim, i+1)\n",
        "    plt.imshow(filt, cmap=\"gray\")\n",
        "    plt.axis('off')\n",
        "plt.show()"
      ]
    },
    {
      "cell_type": "code",
      "execution_count": null,
      "id": "7460defa",
      "metadata": {
        "execution": {
          "iopub.execute_input": "2021-12-09T10:08:36.295499Z",
          "iopub.status.busy": "2021-12-09T10:08:36.257779Z",
          "iopub.status.idle": "2021-12-09T10:08:36.961763Z",
          "shell.execute_reply": "2021-12-09T10:08:36.961107Z",
          "shell.execute_reply.started": "2021-12-09T10:07:04.876236Z"
        },
        "papermill": {
          "duration": 0.751938,
          "end_time": "2021-12-09T10:08:36.961917",
          "exception": false,
          "start_time": "2021-12-09T10:08:36.209979",
          "status": "completed"
        },
        "tags": [],
        "id": "7460defa",
        "outputId": "4ee613c3-dc6a-448b-b1d8-cd6390808bd4"
      },
      "outputs": [
        {
          "data": {
            "image/png": "[encoded data removed]",
            "text/plain": [
              "<Figure size 432x288 with 16 Axes>"
            ]
          },
          "metadata": {
            "needs_background": "light"
          },
          "output_type": "display_data"
        }
      ],
      "source": [
        "# limit how many filters to show\n",
        "to_show = 16\n",
        "\n",
        "# compute the dimensions of the plot\n",
        "plt_dim = int(math.sqrt(to_show))\n",
        "\n",
        "# plot the first channel of each filter in a grid\n",
        "for i, filt in enumerate(feature_maps[1][0].numpy()[:to_show]):\n",
        "    plt.subplot(plt_dim, plt_dim, i+1)\n",
        "    plt.imshow(filt, cmap=\"gray\")\n",
        "    plt.axis('off')\n",
        "plt.show()"
      ]
    },
    {
      "cell_type": "code",
      "execution_count": null,
      "id": "e72cf6dd",
      "metadata": {
        "execution": {
          "iopub.execute_input": "2021-12-09T10:08:37.027399Z",
          "iopub.status.busy": "2021-12-09T10:08:37.026286Z",
          "iopub.status.idle": "2021-12-09T10:08:37.573230Z",
          "shell.execute_reply": "2021-12-09T10:08:37.572641Z",
          "shell.execute_reply.started": "2021-12-09T10:07:05.542421Z"
        },
        "papermill": {
          "duration": 0.580449,
          "end_time": "2021-12-09T10:08:37.573377",
          "exception": false,
          "start_time": "2021-12-09T10:08:36.992928",
          "status": "completed"
        },
        "tags": [],
        "id": "e72cf6dd",
        "outputId": "b0839f91-8a44-44b6-e64c-af640bfffd95"
      },
      "outputs": [
        {
          "data": {
            "image/png": "[encoded data removed]",
            "text/plain": [
              "<Figure size 432x288 with 16 Axes>"
            ]
          },
          "metadata": {
            "needs_background": "light"
          },
          "output_type": "display_data"
        }
      ],
      "source": [
        "# limit how many filters to show\n",
        "to_show = 16\n",
        "\n",
        "# compute the dimensions of the plot\n",
        "plt_dim = int(math.sqrt(to_show))\n",
        "\n",
        "# plot the first channel of each filter in a grid\n",
        "for i, filt in enumerate(feature_maps[2][0].numpy()[:to_show]):\n",
        "    plt.subplot(plt_dim, plt_dim, i+1)\n",
        "    plt.imshow(filt, cmap=\"gray\")\n",
        "    plt.axis('off')\n",
        "plt.show()"
      ]
    },
    {
      "cell_type": "markdown",
      "id": "41ef0723",
      "metadata": {
        "papermill": {
          "duration": 0.029309,
          "end_time": "2021-12-09T10:08:37.633713",
          "exception": false,
          "start_time": "2021-12-09T10:08:37.604404",
          "status": "completed"
        },
        "tags": [],
        "id": "41ef0723"
      },
      "source": [
        "## Gradient-weighted Class Activation Mapping (Grad-CAM) \n",
        "\n",
        "In this section, we will explore using Gradient-weighted Class Activation Mapping (Grad-CAM) to generate coarse localization maps highlighting the important regions in the test images guiding the model's prediction. We will continue using the pre-trained AlexNet."
      ]
    },
    {
      "cell_type": "code",
      "execution_count": null,
      "id": "a8d94a56",
      "metadata": {
        "execution": {
          "iopub.execute_input": "2021-12-09T10:08:37.697286Z",
          "iopub.status.busy": "2021-12-09T10:08:37.696603Z",
          "iopub.status.idle": "2021-12-09T10:08:37.712672Z",
          "shell.execute_reply": "2021-12-09T10:08:37.712101Z",
          "shell.execute_reply.started": "2021-12-09T10:07:06.398929Z"
        },
        "papermill": {
          "duration": 0.049319,
          "end_time": "2021-12-09T10:08:37.712823",
          "exception": false,
          "start_time": "2021-12-09T10:08:37.663504",
          "status": "completed"
        },
        "tags": [],
        "id": "a8d94a56"
      },
      "outputs": [],
      "source": [
        "# defining where to load the pre-trained weights from\n",
        "model_urls = {\n",
        "    'alexnet': 'https://download.pytorch.org/models/alexnet-owt-7be5be79.pth',\n",
        "}\n",
        "\n",
        "# the class definition\n",
        "class AlexNet(nn.Module):\n",
        "\n",
        "    def __init__(self, num_classes=1000):\n",
        "        super(AlexNet, self).__init__()\n",
        "        \n",
        "        # a placeholder for storing the gradients\n",
        "        self.gradients = None\n",
        "        \n",
        "        self.features = nn.Sequential(\n",
        "            nn.Conv2d(3, 64, kernel_size=11, stride=4, padding=2),\n",
        "            nn.ReLU(inplace=True),\n",
        "            nn.MaxPool2d(kernel_size=3, stride=2),\n",
        "            nn.Conv2d(64, 192, kernel_size=5, padding=2),\n",
        "            nn.ReLU(inplace=True),\n",
        "            nn.MaxPool2d(kernel_size=3, stride=2),\n",
        "            nn.Conv2d(192, 384, kernel_size=3, padding=1),\n",
        "            nn.ReLU(inplace=True),\n",
        "            nn.Conv2d(384, 256, kernel_size=3, padding=1),\n",
        "            nn.ReLU(inplace=True),\n",
        "            nn.Conv2d(256, 256, kernel_size=3, padding=1),\n",
        "            nn.ReLU(inplace=True),\n",
        "            nn.MaxPool2d(kernel_size=3, stride=2),\n",
        "        )\n",
        "        \n",
        "        self.avgpool = nn.AdaptiveAvgPool2d((6, 6))\n",
        "        self.classifier = nn.Sequential(\n",
        "            nn.Dropout(),\n",
        "            nn.Linear(256 * 6 * 6, 4096),\n",
        "            nn.ReLU(inplace=True),\n",
        "            nn.Dropout(),\n",
        "            nn.Linear(4096, 4096),\n",
        "            nn.ReLU(inplace=True),\n",
        "            nn.Linear(4096, num_classes),\n",
        "        )\n",
        "        \n",
        "    # the hook for the gradients of the activations\n",
        "    def activations_hook(self, grad):\n",
        "        # stores the gradients of the hook's tensor to our placeholder variable\n",
        "        self.gradients = grad\n",
        "\n",
        "    # a method for extracting the activations of the last conv layer only (when we're \n",
        "    # not interested in a full forward pass)\n",
        "    def get_activations(self, x):\n",
        "        return self.features(x)\n",
        "    \n",
        "    def forward(self, x):\n",
        "        x = self.features(x)\n",
        "        \n",
        "        # we register the hook here to save the gradients of the last convolutional\n",
        "        # layer outputs\n",
        "        hook = x.register_hook(self.activations_hook)\n",
        "        \n",
        "        x = self.avgpool(x)\n",
        "        x = torch.flatten(x, 1)\n",
        "        x = self.classifier(x)\n",
        "        return x\n",
        "\n",
        "\n",
        "def alexnet(pretrained=False, progress=True, **kwargs) -> AlexNet:\n",
        "    \"\"\"AlexNet model architecture from the\n",
        "    `\"One weird trick...\" <https://arxiv.org/abs/1404.5997>`_ paper.\n",
        "\n",
        "    Args:\n",
        "        pretrained (bool): If True, returns a model pre-trained on ImageNet\n",
        "        progress (bool): If True, displays a progress bar of the download to stderr\n",
        "    \"\"\"\n",
        "    model = AlexNet(**kwargs)\n",
        "    if pretrained:\n",
        "        state_dict = load_state_dict_from_url(model_urls['alexnet'],\n",
        "                                              progress=progress)\n",
        "        model.load_state_dict(state_dict)\n",
        "    return model"
      ]
    },
    {
      "cell_type": "code",
      "execution_count": null,
      "id": "b7574b12",
      "metadata": {
        "execution": {
          "iopub.execute_input": "2021-12-09T10:08:37.778074Z",
          "iopub.status.busy": "2021-12-09T10:08:37.777421Z",
          "iopub.status.idle": "2021-12-09T10:08:38.530862Z",
          "shell.execute_reply": "2021-12-09T10:08:38.530250Z",
          "shell.execute_reply.started": "2021-12-09T10:07:06.419804Z"
        },
        "papermill": {
          "duration": 0.787722,
          "end_time": "2021-12-09T10:08:38.531032",
          "exception": false,
          "start_time": "2021-12-09T10:08:37.743310",
          "status": "completed"
        },
        "tags": [],
        "id": "b7574b12"
      },
      "outputs": [],
      "source": [
        "model = alexnet(pretrained=True)"
      ]
    },
    {
      "cell_type": "code",
      "execution_count": null,
      "id": "82fbe71d",
      "metadata": {
        "execution": {
          "iopub.execute_input": "2021-12-09T10:08:38.596564Z",
          "iopub.status.busy": "2021-12-09T10:08:38.595520Z",
          "iopub.status.idle": "2021-12-09T10:08:38.663584Z",
          "shell.execute_reply": "2021-12-09T10:08:38.662973Z",
          "shell.execute_reply.started": "2021-12-09T10:07:08.160507Z"
        },
        "papermill": {
          "duration": 0.102689,
          "end_time": "2021-12-09T10:08:38.663755",
          "exception": false,
          "start_time": "2021-12-09T10:08:38.561066",
          "status": "completed"
        },
        "tags": [],
        "id": "82fbe71d"
      },
      "outputs": [],
      "source": [
        "# pass our test image through our new model with the hook\n",
        "output = model(im.unsqueeze(0))\n",
        "\n",
        "# save the predicted class\n",
        "_, pred_cls = output.max(dim=1, keepdim=True)"
      ]
    },
    {
      "cell_type": "code",
      "execution_count": null,
      "id": "defd917d",
      "metadata": {
        "execution": {
          "iopub.execute_input": "2021-12-09T10:08:38.728998Z",
          "iopub.status.busy": "2021-12-09T10:08:38.728345Z",
          "iopub.status.idle": "2021-12-09T10:08:38.734138Z",
          "shell.execute_reply": "2021-12-09T10:08:38.733610Z",
          "shell.execute_reply.started": "2021-12-09T10:07:08.302959Z"
        },
        "papermill": {
          "duration": 0.039557,
          "end_time": "2021-12-09T10:08:38.734306",
          "exception": false,
          "start_time": "2021-12-09T10:08:38.694749",
          "status": "completed"
        },
        "tags": [],
        "id": "defd917d",
        "outputId": "92e15c7a-1af8-4d7b-857f-0f0bc5427f2e"
      },
      "outputs": [
        {
          "data": {
            "text/plain": [
              "tensor([[444]])"
            ]
          },
          "execution_count": 16,
          "metadata": {},
          "output_type": "execute_result"
        }
      ],
      "source": [
        "pred_cls"
      ]
    },
    {
      "cell_type": "markdown",
      "id": "0b88fd37",
      "metadata": {
        "papermill": {
          "duration": 0.030029,
          "end_time": "2021-12-09T10:08:38.794442",
          "exception": false,
          "start_time": "2021-12-09T10:08:38.764413",
          "status": "completed"
        },
        "tags": [],
        "id": "0b88fd37"
      },
      "source": [
        "## Generate Grad-CAM heatmaps"
      ]
    },
    {
      "cell_type": "code",
      "execution_count": null,
      "id": "42ccb0b2",
      "metadata": {
        "execution": {
          "iopub.execute_input": "2021-12-09T10:08:38.858326Z",
          "iopub.status.busy": "2021-12-09T10:08:38.857618Z",
          "iopub.status.idle": "2021-12-09T10:08:38.866026Z",
          "shell.execute_reply": "2021-12-09T10:08:38.866550Z",
          "shell.execute_reply.started": "2021-12-09T10:07:08.323854Z"
        },
        "papermill": {
          "duration": 0.041659,
          "end_time": "2021-12-09T10:08:38.866719",
          "exception": false,
          "start_time": "2021-12-09T10:08:38.825060",
          "status": "completed"
        },
        "tags": [],
        "id": "42ccb0b2"
      },
      "outputs": [],
      "source": [
        "def generate_heatmap(output, class_id, model, image):\n",
        "    \n",
        "    # 1. compute the gradient of the score for the predicted class (logit)\n",
        "    # with respect to the feature map activations of the last convolutional layer\n",
        "    # Hint: calling .backward() on a Tensor computes its gradients\n",
        "    # TO COMPLETE\n",
        "    output[:,-1].backward()\n",
        "    # 2. get the gradients from the model placeholder variable\n",
        "    # TO COMPLETE\n",
        "    gradients = model.gradients\n",
        "    assert list(gradients.shape) == [1, 256, 7, 7]\n",
        "    \n",
        "    # pool the gradients across the channels\n",
        "    pooled_gradients = torch.mean(gradients, dim=[0, 2, 3])\n",
        "    assert list(pooled_gradients.shape) == [256]\n",
        "    \n",
        "    # 3. get the activations of the last convolutional layer\n",
        "    # TO COMPLETE\n",
        "    activations = model.get_activations(image).detach() \n",
        "    assert list(activations.shape) == [1, 256, 7, 7]\n",
        "    \n",
        "    # 4. weight (multiply) the channels (dim=1 of activations) by the corresponding\n",
        "    # gradients (pooled_gradients)\n",
        "    # TO COMPLETE\n",
        "    for i in range(256):\n",
        "      activations[:, i, :, :] *= pooled_gradients[i]\n",
        "\n",
        "    # average the channels of the activations and squeeze out the extra dimension\n",
        "    heatmap = torch.mean(activations, dim=1).squeeze()\n",
        "    assert list(heatmap.shape) == [7, 7]\n",
        "    \n",
        "    # 5. apply a ReLU to the linear combination of maps because we are only \n",
        "    # interested in the features that have a positive influence on the class of \n",
        "    # interest, i.e. pixels whose intensity should be increased in order to increase y\n",
        "    # Hint: you can use np.maximum() and torch.max() to perform ReLU if you prefer.\n",
        "    heatmap = np.maximum(heatmap, 0)\n",
        "\n",
        "    # normalize the heatmap\n",
        "    heatmap /= torch.max(heatmap)\n",
        "\n",
        "    return heatmap"
      ]
    },
    {
      "cell_type": "code",
      "execution_count": null,
      "id": "9a602eab",
      "metadata": {
        "execution": {
          "iopub.execute_input": "2021-12-09T10:08:38.930152Z",
          "iopub.status.busy": "2021-12-09T10:08:38.929484Z",
          "iopub.status.idle": "2021-12-09T10:08:39.111873Z",
          "shell.execute_reply": "2021-12-09T10:08:39.111346Z",
          "shell.execute_reply.started": "2021-12-09T10:07:08.362738Z"
        },
        "papermill": {
          "duration": 0.215026,
          "end_time": "2021-12-09T10:08:39.112020",
          "exception": false,
          "start_time": "2021-12-09T10:08:38.896994",
          "status": "completed"
        },
        "tags": [],
        "id": "9a602eab"
      },
      "outputs": [],
      "source": [
        "heatmap = generate_heatmap(output, pred_cls, model, im.unsqueeze(0))"
      ]
    },
    {
      "cell_type": "markdown",
      "id": "f9aeb017",
      "metadata": {
        "papermill": {
          "duration": 0.031894,
          "end_time": "2021-12-09T10:08:39.174438",
          "exception": false,
          "start_time": "2021-12-09T10:08:39.142544",
          "status": "completed"
        },
        "tags": [],
        "id": "f9aeb017"
      },
      "source": [
        "## Display heatmaps \n",
        "Display ```heatmap``` as a coloured heatmap super-imposed onto the original image. To get results as shown in the paper, we recommend the following steps:\n",
        "\n",
        "1. Resize the heatmap to match the size of the image.\n",
        "2. Rescale the image to a 0-255 integer range.\n",
        "3. Apply a colormap to the heatmap using ```cv2.applyColorMap(heatmap, cv2.COLORMAP_JET)```.\n",
        "4. Multiply all values of heatmap by 0.4 to reduce colour saturation.\n",
        "5. Superimpose the heatmap onto the original image (Note: please perform cv2's addition - addition of two cv2 images, not numpy addition. See [here](https://opencv24-python-tutorials.readthedocs.io/en/latest/py_tutorials/py_core/py_image_arithmetics/py_image_arithmetics.html#:~:text=addWeighted()%20etc.-,Image%20Addition,OpenCV%20addition%20and%20Numpy%20addition.) for explanation.)\n",
        "6. Normalize the image between 0-255 again.\n",
        "7. Display the resulting image."
      ]
    },
    {
      "cell_type": "code",
      "execution_count": null,
      "id": "1b660021",
      "metadata": {
        "execution": {
          "iopub.execute_input": "2021-12-09T10:08:39.242762Z",
          "iopub.status.busy": "2021-12-09T10:08:39.242099Z",
          "iopub.status.idle": "2021-12-09T10:08:39.245652Z",
          "shell.execute_reply": "2021-12-09T10:08:39.245138Z",
          "shell.execute_reply.started": "2021-12-09T10:07:08.811570Z"
        },
        "papermill": {
          "duration": 0.041556,
          "end_time": "2021-12-09T10:08:39.245802",
          "exception": false,
          "start_time": "2021-12-09T10:08:39.204246",
          "status": "completed"
        },
        "tags": [],
        "id": "1b660021"
      },
      "outputs": [],
      "source": [
        "def display_heatmap(heatmap,image):\n",
        "#1\n",
        "  (w, h) = (image.shape[0], image.shape[1])\n",
        "  heatmap = cv2.resize(heatmap.numpy(), (w, h))\n",
        "  \n",
        "#2\n",
        "  \n",
        "  numer = heatmap - np.min(heatmap)\n",
        "  denom = (heatmap.max() - heatmap.min()) + 1e-8\n",
        "  heatmap_normalized = numer / denom\n",
        "  heatmap_normalized = (heatmap_normalized * 255).astype(\"uint8\")\n",
        "\n",
        "  \n",
        "#3\n",
        "\n",
        "  heatmap_normalized = cv2.applyColorMap(heatmap_normalized, cv2.COLORMAP_JET)\n",
        "    \n",
        "#4\n",
        "  heatmap_normalized=heatmap_normalized * 0.4\n",
        "#5\n",
        "  #heatmap_normalized=heatmap_normalized.reshape((256,256,1))*np.ones([256,256,3])\n",
        "  weighted_image= cv2.addWeighted(heatmap_normalized, 0.7, image, 0.3, 0)\n",
        "#6\n",
        "  numer = weighted_image - np.min(weighted_image)\n",
        "  denom = (weighted_image.max() - weighted_image.min()) + 1e-8\n",
        "  final_image = numer / denom\n",
        "  final_image = (final_image * 255).astype(\"uint8\")\n",
        "\n",
        "  return final_image"
      ]
    },
    {
      "cell_type": "code",
      "execution_count": null,
      "id": "b8ce2d84",
      "metadata": {
        "execution": {
          "iopub.execute_input": "2021-12-09T10:08:39.311715Z",
          "iopub.status.busy": "2021-12-09T10:08:39.311036Z",
          "iopub.status.idle": "2021-12-09T10:08:39.346048Z",
          "shell.execute_reply": "2021-12-09T10:08:39.346547Z",
          "shell.execute_reply.started": "2021-12-09T10:07:24.591134Z"
        },
        "papermill": {
          "duration": 0.070235,
          "end_time": "2021-12-09T10:08:39.346729",
          "exception": false,
          "start_time": "2021-12-09T10:08:39.276494",
          "status": "completed"
        },
        "tags": [],
        "id": "b8ce2d84"
      },
      "outputs": [],
      "source": [
        "image = cv2.imread('man_bike.JPEG')\n",
        "image=cv2.resize(image,(256,256))\n",
        "image = np.asarray(image, np.float64)\n"
      ]
    },
    {
      "cell_type": "code",
      "execution_count": null,
      "id": "f6e33340",
      "metadata": {
        "execution": {
          "iopub.execute_input": "2021-12-09T10:08:39.411277Z",
          "iopub.status.busy": "2021-12-09T10:08:39.410565Z",
          "iopub.status.idle": "2021-12-09T10:08:39.456815Z",
          "shell.execute_reply": "2021-12-09T10:08:39.457417Z",
          "shell.execute_reply.started": "2021-12-09T10:07:25.641037Z"
        },
        "papermill": {
          "duration": 0.080686,
          "end_time": "2021-12-09T10:08:39.457588",
          "exception": false,
          "start_time": "2021-12-09T10:08:39.376902",
          "status": "completed"
        },
        "tags": [],
        "id": "f6e33340"
      },
      "outputs": [],
      "source": [
        "display=display_heatmap(heatmap,image)"
      ]
    },
    {
      "cell_type": "code",
      "execution_count": null,
      "id": "d49f6f65",
      "metadata": {
        "execution": {
          "iopub.execute_input": "2021-12-09T10:08:39.521428Z",
          "iopub.status.busy": "2021-12-09T10:08:39.520679Z",
          "iopub.status.idle": "2021-12-09T10:08:39.871480Z",
          "shell.execute_reply": "2021-12-09T10:08:39.871977Z",
          "shell.execute_reply.started": "2021-12-09T10:07:27.649248Z"
        },
        "papermill": {
          "duration": 0.384486,
          "end_time": "2021-12-09T10:08:39.872145",
          "exception": false,
          "start_time": "2021-12-09T10:08:39.487659",
          "status": "completed"
        },
        "tags": [],
        "id": "d49f6f65",
        "outputId": "7a013a5d-94f7-4548-d85c-f1488adf1515"
      },
      "outputs": [
        {
          "data": {
            "text/plain": [
              "<matplotlib.image.AxesImage at 0x7ff90810ae90>"
            ]
          },
          "execution_count": 22,
          "metadata": {},
          "output_type": "execute_result"
        },
        {
          "data": {
            "image/png": "[encoded data removed]",
            "text/plain": [
              "<Figure size 288x288 with 1 Axes>"
            ]
          },
          "metadata": {
            "needs_background": "light"
          },
          "output_type": "display_data"
        }
      ],
      "source": [
        "plt.matshow(display[:, :, ::-1])"
      ]
    },
    {
      "cell_type": "code",
      "execution_count": null,
      "id": "9435b0bf",
      "metadata": {
        "papermill": {
          "duration": 0.033482,
          "end_time": "2021-12-09T10:08:39.939394",
          "exception": false,
          "start_time": "2021-12-09T10:08:39.905912",
          "status": "completed"
        },
        "tags": [],
        "id": "9435b0bf"
      },
      "outputs": [],
      "source": [
        ""
      ]
    }
  ],
  "metadata": {
    "kernelspec": {
      "display_name": "Python 3",
      "language": "python",
      "name": "python3"
    },
    "language_info": {
      "codemirror_mode": {
        "name": "ipython",
        "version": 3
      },
      "file_extension": ".py",
      "mimetype": "text/x-python",
      "name": "python",
      "nbconvert_exporter": "python",
      "pygments_lexer": "ipython3",
      "version": "3.7.12"
    },
    "papermill": {
      "default_parameters": {},
      "duration": 42.871607,
      "end_time": "2021-12-09T10:08:40.885999",
      "environment_variables": {},
      "exception": null,
      "input_path": "__notebook__.ipynb",
      "output_path": "__notebook__.ipynb",
      "parameters": {},
      "start_time": "2021-12-09T10:07:58.014392",
      "version": "2.3.3"
    },
    "widgets": {
      "application/vnd.jupyter.widget-state+json": {}
    },
    "colab": {
      "name": "main.ipynb",
      "provenance": []
    }
  },
  "nbformat": 4,
  "nbformat_minor": 5
}